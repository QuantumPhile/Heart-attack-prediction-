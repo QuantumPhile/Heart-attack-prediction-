{
  "nbformat": 4,
  "nbformat_minor": 0,
  "metadata": {
    "colab": {
      "provenance": []
    },
    "kernelspec": {
      "name": "python3",
      "display_name": "Python 3"
    },
    "language_info": {
      "name": "python"
    }
  },
  "cells": [
    {
      "cell_type": "code",
      "execution_count": 11,
      "metadata": {
        "id": "LXhsboAUl2Pv"
      },
      "outputs": [],
      "source": [
        "#Import \n",
        "import pandas as pd\n",
        "from sklearn.model_selection import train_test_split\n",
        "from sklearn.linear_model import LogisticRegression\n",
        "from sklearn.preprocessing import LabelEncoder\n",
        "import numpy as np\n",
        "#Import"
      ]
    },
    {
      "cell_type": "markdown",
      "source": [
        "# **Data** **Representation**"
      ],
      "metadata": {
        "id": "rThHWhnRn9nJ"
      }
    },
    {
      "cell_type": "code",
      "source": [
        "dataset = pd.read_csv('heart.csv')\n",
        "zizi = print(dataset.columns)\n",
        "dataset.head()"
      ],
      "metadata": {
        "id": "9V4EBbrNqVzo"
      },
      "execution_count": null,
      "outputs": []
    },
    {
      "cell_type": "code",
      "source": [
        "X = dataset.drop(columns = 'target', axis = 1)\n",
        "X.head()\n",
        "\n"
      ],
      "metadata": {
        "id": "V5B2mVdRuqDz"
      },
      "execution_count": null,
      "outputs": []
    },
    {
      "cell_type": "code",
      "source": [
        "y = dataset['target']\n",
        "y.head()"
      ],
      "metadata": {
        "id": "Qvtnilnsxlay"
      },
      "execution_count": null,
      "outputs": []
    },
    {
      "cell_type": "code",
      "source": [
        "X_train, X_test, y_train, y_test = train_test_split(dataset.iloc[:,:-1], dataset.iloc[:,-1], test_size=0.2, random_state=42)"
      ],
      "metadata": {
        "id": "9RaZl1gNyQZQ"
      },
      "execution_count": 5,
      "outputs": []
    },
    {
      "cell_type": "markdown",
      "source": [
        "# Creation of the model"
      ],
      "metadata": {
        "id": "5C8ce09pq29d"
      }
    },
    {
      "cell_type": "code",
      "source": [
        "model = LogisticRegression()"
      ],
      "metadata": {
        "id": "ay6Rs3x6rJDz"
      },
      "execution_count": 6,
      "outputs": []
    },
    {
      "cell_type": "markdown",
      "source": [
        "# **Train** and **Test**"
      ],
      "metadata": {
        "id": "RFcHtsmMreSg"
      }
    },
    {
      "cell_type": "code",
      "source": [
        "model.fit(X_train, y_train)\n",
        "y_pred = model.predict(X_test)\n",
        "accuracy = model.score(X_test, y_test)\n",
        "print('Accuracy:', accuracy)"
      ],
      "metadata": {
        "id": "CdpU84CSrmYT"
      },
      "execution_count": null,
      "outputs": []
    },
    {
      "cell_type": "markdown",
      "source": [
        "# **Prediction system**"
      ],
      "metadata": {
        "id": "ZoHbE50jb3n0"
      }
    },
    {
      "cell_type": "code",
      "source": [
        "#New observation for prediction \n",
        "new_observation = np.array([[63,\t1,\t3,\t145,\t233,\t1,\t0,\t150,\t0,\t2.3,\t0,\t0,\t1]])\n",
        "\n",
        "# Create prediction model\n",
        "new_prediction = model.predict(new_observation)\n",
        "\n",
        "# Build the system\n",
        "if new_prediction == [1]:\n",
        "  print(\"the patient is not at risk of a heart attack\")\n",
        "else:\n",
        "  print(\"the patient is potentially at risk for a heart attack\")\n",
        "\n",
        "\n",
        "print('New prediction:', new_prediction)"
      ],
      "metadata": {
        "id": "C0nxbdfKb7L5"
      },
      "execution_count": null,
      "outputs": []
    }
  ]
}